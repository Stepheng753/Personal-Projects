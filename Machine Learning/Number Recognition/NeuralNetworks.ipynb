{
 "cells": [
  {
   "cell_type": "code",
   "execution_count": null,
   "metadata": {},
   "outputs": [],
   "source": [
    "import csv\n",
    "import warnings\n",
    "warnings.filterwarnings('ignore')\n",
    "\n",
    "import math\n",
    "import matplotlib.pyplot as plt\n",
    "\n",
    "import numpy as np\n",
    "formatter = {'float': '{: 0.2f}'.format, 'int': '{: 0.2f}'.format}\n",
    "formatter8 = {'float': '{: 0.8f}'.format, 'int': '{: 0.2f}'.format}\n",
    "\n",
    "import time\n",
    "import datetime"
   ]
  },
  {
   "cell_type": "code",
   "execution_count": null,
   "metadata": {},
   "outputs": [],
   "source": [
    "def sigmoid(x):\n",
    "    return 1/ (1 + np.exp(-x))\n",
    "\n",
    "def d_sigmoid(x):\n",
    "    s = sigmoid(x)\n",
    "    return  s * (1 - s)\n",
    "\n",
    "\n",
    "def ReLU(x):\n",
    "    return x if x > 0 else 0\n",
    "\n",
    "def d_ReLU(x):\n",
    "    return 1 if x > 0 else 0\n",
    "\n",
    "\n",
    "def tanh(x):\n",
    "    return np.tanh(x)\n",
    "\n",
    "def d_tanh(x):\n",
    "    return 1 / np.cosh(x) ** 2\n",
    "\n",
    "\n",
    "def linear(x):\n",
    "    return x\n",
    "\n",
    "def d_linear(x):\n",
    "    return 1\n",
    "\n",
    "def print_red(text, end='\\n'): print(\"\\033[91m {}\\033[00m\" .format(text), end=end)\n",
    "def print_green(text, end='\\n'): print(\"\\033[92m {}\\033[00m\" .format(text), end=end)\n",
    "def print_yellow(text, end='\\n'): print(\"\\033[93m {}\\033[00m\" .format(text), end=end)\n",
    "def print_light_purple(text, end='\\n'): print(\"\\033[94m {}\\033[00m\" .format(text), end=end)\n",
    "def print_purple(text, end='\\n'): print(\"\\033[95m {}\\033[00m\" .format(text), end=end)\n",
    "def print_cyan(text, end='\\n'): print(\"\\033[96m {}\\033[00m\" .format(text), end=end)\n",
    "def print_light_gray(text, end='\\n'): print(\"\\033[97m {}\\033[00m\" .format(text), end=end)\n",
    "def print_black(text, end='\\n'): print(\"\\033[98m {}\\033[00m\" .format(text), end=end)\n",
    "\n",
    "def progress(start, percent=0, width=50):\n",
    "    time_elapsed = time.time() - start\n",
    "    time_left = time_elapsed / percent - time_elapsed if percent > 0 else 0\n",
    "    time_left_str_arr = str(datetime.timedelta(seconds=time_left)).split(':')\n",
    "    time_left_str_arr[2] = format(float(time_left_str_arr[2]), '.0f')\n",
    "    time_left_str = ':'.join(time_left_str_arr)\n",
    "    left = math.floor(width * percent)\n",
    "    right = width - left\n",
    "    tags = \"#\" * left\n",
    "    spaces = \" \" * right\n",
    "    percentage_str = str(format(float(percent) * 100.0, '.4f'))\n",
    "    print(\"\\rLoading ::: [\" + str(tags) + str(spaces) + \"]\" + percentage_str + \"% ::: \" + time_left_str, end=\"\")\n",
    "    if percent == 1:\n",
    "        print()"
   ]
  },
  {
   "cell_type": "code",
   "execution_count": null,
   "metadata": {},
   "outputs": [],
   "source": [
    "def get_Weights_Biases(weights_file, biases_file):\n",
    "    imported_weights = []\n",
    "    imported_biases = []\n",
    "    with open(weights_file, 'r') as f:\n",
    "        csvreader = csv.reader(f)\n",
    "        imported_weights = [[] for _ in range(0, 3)]\n",
    "        index = 0\n",
    "        for row in csvreader:\n",
    "            if len(row) == 0:\n",
    "                index += 1\n",
    "            else:\n",
    "                imported_weights[index].append([float(x) for x in row])\n",
    "\n",
    "    with open(biases_file, 'r') as f:\n",
    "        csvreader = csv.reader(f)\n",
    "        imported_biases = [[] for _ in range(0, 3)]\n",
    "        index = 0\n",
    "        for row in csvreader:\n",
    "            if len(row) == 0:\n",
    "                index += 1\n",
    "            else:\n",
    "                imported_biases[index].append([float(x) for x in row])\n",
    "\n",
    "    return imported_weights, imported_biases\n",
    "\n",
    "training_data = []\n",
    "with open('train.csv', 'r') as f:\n",
    "    reader = csv.reader(f)\n",
    "    training_data = list(reader)\n",
    "\n",
    "training_data_seperated = {}\n",
    "for row in training_data[1:]:\n",
    "    label = row[0]\n",
    "    if label not in training_data_seperated:\n",
    "        training_data_seperated[label] = []\n",
    "    training_data_seperated[label].append([int(x) for x in row[1:]])\n",
    "\n",
    "testing_data_str = []\n",
    "with open('test.csv', 'r') as f:\n",
    "    reader = csv.reader(f)\n",
    "    testing_data_str = list(reader)\n",
    "\n",
    "testing_data = []\n",
    "for row in testing_data_str[1:]:\n",
    "    testing_data.append([int(x) for x in row])"
   ]
  },
  {
   "cell_type": "code",
   "execution_count": 12,
   "metadata": {},
   "outputs": [],
   "source": [
    "class NeuralNetwork:\n",
    "\n",
    "    def __init__(self, input_shape, hidden_heights, Y_shape, \n",
    "                 learning_rate = 1, activation_function = sigmoid, activation_derivative = d_sigmoid):\n",
    "\n",
    "        self.num_layers = 1 + len(hidden_heights) + 1\n",
    "        self.learning_rate = learning_rate\n",
    "        self.activation_function = activation_function\n",
    "        self.activation_derivative = activation_derivative\n",
    "\n",
    "        self.Weights = [0 for _ in range(0, self.num_layers - 1)]\n",
    "        self.Biases  = [0 for _ in range(0, self.num_layers - 1)]\n",
    "\n",
    "        left_shape = input_shape\n",
    "        for layer in range(0, len(hidden_heights)):\n",
    "            right_shape = hidden_heights[layer]\n",
    "            self.Weights[layer] = np.random.randn(right_shape, left_shape)\n",
    "            self.Biases[layer] = np.random.randn(right_shape, 1)\n",
    "            left_shape = right_shape\n",
    "        right_shape = Y_shape\n",
    "        self.Weights[len(hidden_heights)] = np.random.randn(right_shape, left_shape)\n",
    "        self.Biases[len(hidden_heights)] = np.random.randn(right_shape, 1)\n",
    "\n",
    "\n",
    "    def set_data(self, Weights, Biases):\n",
    "        self.Weights = Weights\n",
    "        self.Biases = Biases\n",
    "\n",
    "\n",
    "    def create_data(self, input_cases):\n",
    "        A_groups = []\n",
    "        for input_case in input_cases:\n",
    "            A = [0 for _ in range(0, self.num_layers)]\n",
    "            A[0] = np.array([input_case]).T\n",
    "            A_groups.append(A)\n",
    "        return A_groups\n",
    "\n",
    "    \n",
    "    def export_data(self, weight_file, bias_file):\n",
    "        with open(weight_file, 'w') as f:\n",
    "            csvwriter = csv.writer(f)\n",
    "            csvwriter.writerows(self.Weights[0])\n",
    "            csvwriter.writerow([])\n",
    "            csvwriter.writerows(self.Weights[1])\n",
    "            csvwriter.writerow([])\n",
    "            csvwriter.writerows(self.Weights[2])\n",
    "\n",
    "        with open(bias_file, 'w') as f:\n",
    "            csvwriter = csv.writer(f)\n",
    "            csvwriter.writerows(self.Biases[0])\n",
    "            csvwriter.writerow([])\n",
    "            csvwriter.writerows(self.Biases[1])\n",
    "            csvwriter.writerow([])\n",
    "            csvwriter.writerows(self.Biases[2])\n",
    "\n",
    "    def train(self, input_cases, Y_groups, tol, max_iterations, get_plot = False): \n",
    "        A_groups = self.create_data(input_cases)\n",
    "        A_groups, Z_groups = self.forward_prop(A_groups)\n",
    "        C = 100\n",
    "        count = 0\n",
    "        x_vals = []\n",
    "        y_vals = []\n",
    "        start = time.time()\n",
    "        while C > tol and count < max_iterations:\n",
    "            progress(start, count / max_iterations)\n",
    "            A_groups, Z_groups, C = self.backward_prop(A_groups, Z_groups, Y_groups)\n",
    "            count += 1\n",
    "            x_vals.append(count)\n",
    "            y_vals.append(np.log10(C))\n",
    "        while count <= max_iterations:\n",
    "            progress(start, count / max_iterations)\n",
    "            count += 1\n",
    "            \n",
    "        fig = None\n",
    "        if get_plot:\n",
    "            fig = plt.figure()\n",
    "            plt.plot(x_vals, y_vals)\n",
    "            plt.xlabel('Iterations')\n",
    "            plt.ylabel(r'$\\log{}$(Cost)')\n",
    "            plt.title('Cost per Iterations' + ' (' + str(len(input_cases)) + ' test cases)')\n",
    "            plt.grid(True)\n",
    "        return C, fig\n",
    "\n",
    "\n",
    "    def test(self, input_cases):\n",
    "        A_groups = self.create_data(input_cases)\n",
    "        A_groups, Z_groups = self.forward_prop(A_groups)\n",
    "        return A_groups\n",
    "\n",
    "\n",
    "    def print_results(self, A_groups, Y_groups, print_status, print_plot = False):\n",
    "        count = 0\n",
    "        last_layer = len(A_groups[0]) - 1\n",
    "        for test_case_index in range(0, len(A_groups)):\n",
    "            test_input = np.around(A_groups[test_case_index][0].T, decimals=2)\n",
    "            rounded_result = np.around(A_groups[test_case_index][last_layer], decimals=0).T\n",
    "            test_status = 'PASS' if False not in (rounded_result == Y_groups[test_case_index].T) else 'FAIL'\n",
    "            count += 1 if test_status == 'PASS' else 0\n",
    "\n",
    "            if print_status:\n",
    "                if test_status == 'PASS':\n",
    "                    with np.printoptions(formatter=formatter, suppress=True):\n",
    "                        print_green(str(test_input), end=\" : \")\n",
    "                        print_green(str(rounded_result), end=\" : \")\n",
    "                    print_green(test_status, end=\" : \")\n",
    "                    with np.printoptions(formatter=formatter8, suppress=True):\n",
    "                        print_green(str(A_groups[test_case_index][last_layer].T), end=' : ')\n",
    "                    with np.printoptions(formatter=formatter, suppress=True):\n",
    "                        print_green(str(np.array(Y_groups[test_case_index]).T), end='\\n')\n",
    "                else:\n",
    "                    with np.printoptions(formatter=formatter, suppress=True):\n",
    "                        print_red(str(test_input), end=\" : \")\n",
    "                        print_red(str(rounded_result), end=\" : \")\n",
    "                    print_red(test_status, end=\" : \")\n",
    "                    with np.printoptions(formatter=formatter8, suppress=True):\n",
    "                        print_red(str(A_groups[test_case_index][last_layer].T), end=' : ')\n",
    "                    with np.printoptions(formatter=formatter, suppress=True):\n",
    "                        print_red(str(np.array(Y_groups[test_case_index]).T), end='\\n')\n",
    "        if print_plot:\n",
    "            plt.show()\n",
    "\n",
    "        print('PASSED: ', count, '/', len(A_groups), ' - ', format(100 * count / len(A_groups), '.4f'), '%')\n",
    "\n",
    "\n",
    "    def forward_prop(self, A_groups):\n",
    "        Z_groups = []\n",
    "        for A in A_groups:\n",
    "            Z = [0 for _ in range(0, self.num_layers - 1)]\n",
    "            for layer in range(0, len(A) - 1):\n",
    "                Z[layer] = np.dot(self.Weights[layer], A[layer]) + self.Biases[layer]\n",
    "                A[layer + 1] = self.activation_function(Z[layer])\n",
    "            Z_groups.append(Z) \n",
    "        return A_groups, Z_groups\n",
    "\n",
    "\n",
    "    def backward_prop(self, A_groups, Z_groups, Y_groups):\n",
    "        for layer in range(0, self.num_layers - 1):\n",
    "            DCDW = 0\n",
    "            DCDB = 0\n",
    "            for test_case_index in range(0, len(A_groups)):\n",
    "                A = A_groups[test_case_index]\n",
    "                Y = Y_groups[test_case_index]\n",
    "                Z = Z_groups[test_case_index]\n",
    "\n",
    "                dzdw = A[layer]\n",
    "                dzdb = np.array([[1]])\n",
    "                dadz = self.activation_derivative(Z[layer])\n",
    "                dcda = self.calc_dCda(A, Z, Y, layer + 1)\n",
    "\n",
    "                dcdw = np.dot(dadz * dcda, dzdw.T)\n",
    "                dcdb = np.dot(dadz * dcda, dzdb.T)\n",
    "                DCDW += dcdw\n",
    "                DCDB += dcdb\n",
    "            self.Weights[layer] -= self.learning_rate * DCDW / len(A_groups)\n",
    "            self.Biases[layer] -= self.learning_rate * DCDB / len(A_groups)\n",
    "            A_groups, Z_groups = self.forward_prop(A_groups)\n",
    "\n",
    "        C = 0\n",
    "        for test_case_index in range(0, len(A_groups)):\n",
    "            A = A_groups[test_case_index]\n",
    "            Y = Y_groups[test_case_index]\n",
    "            C += np.sum((A[self.num_layers - 1] - Y) ** 2)\n",
    "        C /= len(A_groups)\n",
    "\n",
    "        return A_groups, Z_groups, C\n",
    "\n",
    "    \n",
    "    def calc_dCda(self, A, Z, Y, layer):\n",
    "        if layer == self.num_layers - 1:\n",
    "            return 2 * (A[layer] - Y)\n",
    "        else:\n",
    "            dzda = self.Weights[layer].T\n",
    "            dadz = self.activation_derivative(Z[layer])\n",
    "            return np.dot(dzda, dadz * self.calc_dCda(A, Z, Y, layer + 1))\n"
   ]
  },
  {
   "cell_type": "code",
   "execution_count": null,
   "metadata": {},
   "outputs": [],
   "source": [
    "floor_NN = NeuralNetwork(input_shape=1, hidden_heights=[3] ,Y_shape=3)\n",
    "\n",
    "def create_output_data(test_cases):\n",
    "    Y_groups = []\n",
    "    for test_case in test_cases:\n",
    "        Y = np.array([[0, 0, 0]]).T\n",
    "        Y[math.floor(test_case[0])] = 1\n",
    "        Y_groups.append(Y)\n",
    "    return Y_groups\n",
    "\n",
    "\n",
    "for test in [(3, 5e-5, True), (12, 5e-4, True), (100, 1e-2, False)]:\n",
    "    test_case = np.linspace(0, 3, test[0], endpoint=False)\n",
    "    input_data = []\n",
    "    for case in test_case:\n",
    "        input_data.append([case])\n",
    "    Y_groups = create_output_data(input_data)\n",
    "\n",
    "    C, fig = floor_NN.train(input_data, Y_groups, test[1], 200_000, test[2])\n",
    "    print('C: ', format(C, '.15f'))\n",
    "\n",
    "    A_groups = floor_NN.test(input_data)\n",
    "    floor_NN.print_results(A_groups, Y_groups, print_status=test[2], print_plot=test[2])\n",
    "    print()\n",
    "\n",
    "test_case = np.linspace(0, 3, 1000, endpoint=False)\n",
    "input_data = []\n",
    "for case in test_case:\n",
    "    input_data.append([case])\n",
    "Y_groups = create_output_data(input_data)\n",
    "\n",
    "A_groups = floor_NN.test(input_data)\n",
    "floor_NN.print_results(A_groups, Y_groups, print_status=False)\n",
    "print()\n"
   ]
  },
  {
   "cell_type": "code",
   "execution_count": null,
   "metadata": {},
   "outputs": [],
   "source": [
    "num_ones_NN = NeuralNetwork(input_shape=3, hidden_heights=[3, 5] ,Y_shape=4)\n",
    "\n",
    "def create_output_data(test_cases):\n",
    "    Y_groups = []\n",
    "    for test_case in test_cases:\n",
    "        num_ones = int(np.round(np.sum(test_case)))\n",
    "        Y = np.array([[0, 0, 0, 0]]).T\n",
    "        Y[num_ones][0] = 1\n",
    "        Y_groups.append(Y)\n",
    "    return Y_groups\n",
    "\n",
    "all_test_cases = [[[0, 0, 0], \n",
    "                   [1, 0, 0], [0, 1, 0], [0, 0, 1], \n",
    "                   [1 , 1, 0], [0, 1, 1], [1, 0, 1], \n",
    "                   [1, 1, 1]], \n",
    "                  [np.random.uniform(0, 3.5 / 3, 3) for _ in range(0, 100)]]\n",
    "test_params = [(5e-3, 200_000, True), (5e-2, 200_000, False), (100, 1e-2, False)]\n",
    "for test_cases_index in range(0, len(all_test_cases)):\n",
    "    test_cases = all_test_cases[test_cases_index]\n",
    "    test_param = test_params[test_cases_index]\n",
    "\n",
    "    Y_groups = create_output_data(test_cases)\n",
    "    C, fig = num_ones_NN.train(test_cases, Y_groups, test_param[0], test_param[1], test_param[2])\n",
    "    print('C: ', format(C, '.15f'))\n",
    "    A_groups = num_ones_NN.test(test_cases)\n",
    "    num_ones_NN.print_results(A_groups, Y_groups, print_status=test_param[2], print_plot=test_param[2])\n",
    "    print()\n",
    "\n",
    "\n",
    "test_cases = [np.random.uniform(0, 3.5 / 3, 3) for _ in range(0, 15)]\n",
    "Y_groups = create_output_data(test_cases)\n",
    "A_groups = num_ones_NN.test(test_cases)\n",
    "num_ones_NN.print_results(A_groups, Y_groups, print_status=True)\n",
    "print()\n"
   ]
  },
  {
   "cell_type": "code",
   "execution_count": 22,
   "metadata": {},
   "outputs": [
    {
     "name": "stdout",
     "output_type": "stream",
     "text": [
      "Loading ::: [                                                  ]0.8800% ::: 0:19:36"
     ]
    },
    {
     "ename": "KeyboardInterrupt",
     "evalue": "",
     "output_type": "error",
     "traceback": [
      "\u001b[0;31m---------------------------------------------------------------------------\u001b[0m",
      "\u001b[0;31mKeyboardInterrupt\u001b[0m                         Traceback (most recent call last)",
      "\u001b[1;32m/home/stepheng753/Projects/Personal-Projects/Machine Learning/Number Recognition/NeuralNetworks.ipynb Cell 7'\u001b[0m in \u001b[0;36m<cell line: 14>\u001b[0;34m()\u001b[0m\n\u001b[1;32m     <a href='vscode-notebook-cell:/home/stepheng753/Projects/Personal-Projects/Machine%20Learning/Number%20Recognition/NeuralNetworks.ipynb#ch0000004?line=14'>15</a>\u001b[0m test_cases, Y_groups \u001b[39m=\u001b[39m get_training_set(i \u001b[39m*\u001b[39m test_case_len, (i \u001b[39m+\u001b[39m \u001b[39m1\u001b[39m) \u001b[39m*\u001b[39m test_case_len)\n\u001b[1;32m     <a href='vscode-notebook-cell:/home/stepheng753/Projects/Personal-Projects/Machine%20Learning/Number%20Recognition/NeuralNetworks.ipynb#ch0000004?line=15'>16</a>\u001b[0m num_recog_NN \u001b[39m=\u001b[39m NeuralNetwork(input_shape\u001b[39m=\u001b[39m\u001b[39m784\u001b[39m, hidden_heights\u001b[39m=\u001b[39m[\u001b[39m16\u001b[39m] ,Y_shape\u001b[39m=\u001b[39m\u001b[39m10\u001b[39m, learning_rate\u001b[39m=\u001b[39m\u001b[39m.005\u001b[39m)\n\u001b[0;32m---> <a href='vscode-notebook-cell:/home/stepheng753/Projects/Personal-Projects/Machine%20Learning/Number%20Recognition/NeuralNetworks.ipynb#ch0000004?line=16'>17</a>\u001b[0m C, fig \u001b[39m=\u001b[39m num_recog_NN\u001b[39m.\u001b[39;49mtrain(test_cases, Y_groups, tol\u001b[39m=\u001b[39;49m\u001b[39m5e-3\u001b[39;49m, max_iterations\u001b[39m=\u001b[39;49m\u001b[39m5_000\u001b[39;49m, get_plot\u001b[39m=\u001b[39;49m\u001b[39mFalse\u001b[39;49;00m)\n\u001b[1;32m     <a href='vscode-notebook-cell:/home/stepheng753/Projects/Personal-Projects/Machine%20Learning/Number%20Recognition/NeuralNetworks.ipynb#ch0000004?line=17'>18</a>\u001b[0m \u001b[39mprint\u001b[39m(\u001b[39m'\u001b[39m\u001b[39mC: \u001b[39m\u001b[39m'\u001b[39m, \u001b[39mformat\u001b[39m(C, \u001b[39m'\u001b[39m\u001b[39m.15f\u001b[39m\u001b[39m'\u001b[39m))\n\u001b[1;32m     <a href='vscode-notebook-cell:/home/stepheng753/Projects/Personal-Projects/Machine%20Learning/Number%20Recognition/NeuralNetworks.ipynb#ch0000004?line=18'>19</a>\u001b[0m A_groups \u001b[39m=\u001b[39m num_recog_NN\u001b[39m.\u001b[39mtest(test_cases)\n",
      "\u001b[1;32m/home/stepheng753/Projects/Personal-Projects/Machine Learning/Number Recognition/NeuralNetworks.ipynb Cell 4'\u001b[0m in \u001b[0;36mNeuralNetwork.train\u001b[0;34m(self, input_cases, Y_groups, tol, max_iterations, get_plot)\u001b[0m\n\u001b[1;32m     <a href='vscode-notebook-cell:/home/stepheng753/Projects/Personal-Projects/Machine%20Learning/Number%20Recognition/NeuralNetworks.ipynb#ch0000001?line=63'>64</a>\u001b[0m \u001b[39mwhile\u001b[39;00m C \u001b[39m>\u001b[39m tol \u001b[39mand\u001b[39;00m count \u001b[39m<\u001b[39m max_iterations:\n\u001b[1;32m     <a href='vscode-notebook-cell:/home/stepheng753/Projects/Personal-Projects/Machine%20Learning/Number%20Recognition/NeuralNetworks.ipynb#ch0000001?line=64'>65</a>\u001b[0m     progress(start, count \u001b[39m/\u001b[39m max_iterations)\n\u001b[0;32m---> <a href='vscode-notebook-cell:/home/stepheng753/Projects/Personal-Projects/Machine%20Learning/Number%20Recognition/NeuralNetworks.ipynb#ch0000001?line=65'>66</a>\u001b[0m     A_groups, Z_groups, C \u001b[39m=\u001b[39m \u001b[39mself\u001b[39;49m\u001b[39m.\u001b[39;49mbackward_prop(A_groups, Z_groups, Y_groups)\n\u001b[1;32m     <a href='vscode-notebook-cell:/home/stepheng753/Projects/Personal-Projects/Machine%20Learning/Number%20Recognition/NeuralNetworks.ipynb#ch0000001?line=66'>67</a>\u001b[0m     count \u001b[39m+\u001b[39m\u001b[39m=\u001b[39m \u001b[39m1\u001b[39m\n\u001b[1;32m     <a href='vscode-notebook-cell:/home/stepheng753/Projects/Personal-Projects/Machine%20Learning/Number%20Recognition/NeuralNetworks.ipynb#ch0000001?line=67'>68</a>\u001b[0m     x_vals\u001b[39m.\u001b[39mappend(count)\n",
      "\u001b[1;32m/home/stepheng753/Projects/Personal-Projects/Machine Learning/Number Recognition/NeuralNetworks.ipynb Cell 4'\u001b[0m in \u001b[0;36mNeuralNetwork.backward_prop\u001b[0;34m(self, A_groups, Z_groups, Y_groups)\u001b[0m\n\u001b[1;32m    <a href='vscode-notebook-cell:/home/stepheng753/Projects/Personal-Projects/Machine%20Learning/Number%20Recognition/NeuralNetworks.ipynb#ch0000001?line=145'>146</a>\u001b[0m dzdb \u001b[39m=\u001b[39m np\u001b[39m.\u001b[39marray([[\u001b[39m1\u001b[39m]])\n\u001b[1;32m    <a href='vscode-notebook-cell:/home/stepheng753/Projects/Personal-Projects/Machine%20Learning/Number%20Recognition/NeuralNetworks.ipynb#ch0000001?line=146'>147</a>\u001b[0m dadz \u001b[39m=\u001b[39m \u001b[39mself\u001b[39m\u001b[39m.\u001b[39mactivation_derivative(Z[layer])\n\u001b[0;32m--> <a href='vscode-notebook-cell:/home/stepheng753/Projects/Personal-Projects/Machine%20Learning/Number%20Recognition/NeuralNetworks.ipynb#ch0000001?line=147'>148</a>\u001b[0m dcda \u001b[39m=\u001b[39m \u001b[39mself\u001b[39;49m\u001b[39m.\u001b[39;49mcalc_dCda(A, Z, Y, layer \u001b[39m+\u001b[39;49m \u001b[39m1\u001b[39;49m)\n\u001b[1;32m    <a href='vscode-notebook-cell:/home/stepheng753/Projects/Personal-Projects/Machine%20Learning/Number%20Recognition/NeuralNetworks.ipynb#ch0000001?line=149'>150</a>\u001b[0m dcdw \u001b[39m=\u001b[39m np\u001b[39m.\u001b[39mdot(dadz \u001b[39m*\u001b[39m dcda, dzdw\u001b[39m.\u001b[39mT)\n\u001b[1;32m    <a href='vscode-notebook-cell:/home/stepheng753/Projects/Personal-Projects/Machine%20Learning/Number%20Recognition/NeuralNetworks.ipynb#ch0000001?line=150'>151</a>\u001b[0m dcdb \u001b[39m=\u001b[39m np\u001b[39m.\u001b[39mdot(dadz \u001b[39m*\u001b[39m dcda, dzdb\u001b[39m.\u001b[39mT)\n",
      "\u001b[1;32m/home/stepheng753/Projects/Personal-Projects/Machine Learning/Number Recognition/NeuralNetworks.ipynb Cell 4'\u001b[0m in \u001b[0;36mNeuralNetwork.calc_dCda\u001b[0;34m(self, A, Z, Y, layer)\u001b[0m\n\u001b[1;32m    <a href='vscode-notebook-cell:/home/stepheng753/Projects/Personal-Projects/Machine%20Learning/Number%20Recognition/NeuralNetworks.ipynb#ch0000001?line=170'>171</a>\u001b[0m \u001b[39melse\u001b[39;00m:\n\u001b[1;32m    <a href='vscode-notebook-cell:/home/stepheng753/Projects/Personal-Projects/Machine%20Learning/Number%20Recognition/NeuralNetworks.ipynb#ch0000001?line=171'>172</a>\u001b[0m     dzda \u001b[39m=\u001b[39m \u001b[39mself\u001b[39m\u001b[39m.\u001b[39mWeights[layer]\u001b[39m.\u001b[39mT\n\u001b[0;32m--> <a href='vscode-notebook-cell:/home/stepheng753/Projects/Personal-Projects/Machine%20Learning/Number%20Recognition/NeuralNetworks.ipynb#ch0000001?line=172'>173</a>\u001b[0m     dadz \u001b[39m=\u001b[39m \u001b[39mself\u001b[39;49m\u001b[39m.\u001b[39;49mactivation_derivative(Z[layer])\n\u001b[1;32m    <a href='vscode-notebook-cell:/home/stepheng753/Projects/Personal-Projects/Machine%20Learning/Number%20Recognition/NeuralNetworks.ipynb#ch0000001?line=173'>174</a>\u001b[0m     \u001b[39mreturn\u001b[39;00m np\u001b[39m.\u001b[39mdot(dzda, dadz \u001b[39m*\u001b[39m \u001b[39mself\u001b[39m\u001b[39m.\u001b[39mcalc_dCda(A, Z, Y, layer \u001b[39m+\u001b[39m \u001b[39m1\u001b[39m))\n",
      "\u001b[1;32m/home/stepheng753/Projects/Personal-Projects/Machine Learning/Number Recognition/NeuralNetworks.ipynb Cell 2'\u001b[0m in \u001b[0;36md_sigmoid\u001b[0;34m(x)\u001b[0m\n\u001b[1;32m      <a href='vscode-notebook-cell:/home/stepheng753/Projects/Personal-Projects/Machine%20Learning/Number%20Recognition/NeuralNetworks.ipynb#ch0000007?line=3'>4</a>\u001b[0m \u001b[39mdef\u001b[39;00m \u001b[39md_sigmoid\u001b[39m(x):\n\u001b[1;32m      <a href='vscode-notebook-cell:/home/stepheng753/Projects/Personal-Projects/Machine%20Learning/Number%20Recognition/NeuralNetworks.ipynb#ch0000007?line=4'>5</a>\u001b[0m     s \u001b[39m=\u001b[39m sigmoid(x)\n\u001b[0;32m----> <a href='vscode-notebook-cell:/home/stepheng753/Projects/Personal-Projects/Machine%20Learning/Number%20Recognition/NeuralNetworks.ipynb#ch0000007?line=5'>6</a>\u001b[0m     \u001b[39mreturn\u001b[39;00m  s \u001b[39m*\u001b[39m (\u001b[39m1\u001b[39;49m \u001b[39m-\u001b[39;49m s)\n",
      "\u001b[0;31mKeyboardInterrupt\u001b[0m: "
     ]
    }
   ],
   "source": [
    "def get_training_set(from_inclusive, to_exclusive):\n",
    "    Y_groups = []\n",
    "    test_cases = []\n",
    "    for label in training_data_seperated:\n",
    "        curr_case = training_data_seperated[label][from_inclusive : to_exclusive]\n",
    "        test_cases += curr_case\n",
    "        Y = np.array([[0 for _ in range(0, 10)]]).T\n",
    "        Y[int(label)][0] = 1\n",
    "        Y_groups += [Y for _ in range(0, len(curr_case))]\n",
    "    return test_cases, Y_groups\n",
    "\n",
    "i = 0\n",
    "test_case_len = int(3795 / 23)\n",
    "while i < 23:\n",
    "    test_cases, Y_groups = get_training_set(i * test_case_len, (i + 1) * test_case_len)\n",
    "    num_recog_NN = NeuralNetwork(input_shape=784, hidden_heights=[16] ,Y_shape=10, learning_rate=.005)\n",
    "    C, fig = num_recog_NN.train(test_cases, Y_groups, tol=5e-3, max_iterations=5_000, get_plot=False)\n",
    "    print('C: ', format(C, '.15f'))\n",
    "    A_groups = num_recog_NN.test(test_cases)\n",
    "    num_recog_NN.print_results(A_groups, Y_groups, print_status=False, print_plot=False)\n",
    "    i += 1\n",
    "\n",
    "num_recog_NN.export_data('Number_Recog_Weights.csv', 'Number_Recog_Biases.csv')\n",
    "\n"
   ]
  },
  {
   "cell_type": "code",
   "execution_count": 19,
   "metadata": {},
   "outputs": [
    {
     "data": {
      "image/png": "[encoded data removed]",
      "text/plain": [
       "<Figure size 432x288 with 1 Axes>"
      ]
     },
     "metadata": {
      "needs_background": "light"
     },
     "output_type": "display_data"
    },
    {
     "data": {
      "image/png": "[encoded data removed]",
      "text/plain": [
       "<Figure size 432x288 with 1 Axes>"
      ]
     },
     "metadata": {
      "needs_background": "light"
     },
     "output_type": "display_data"
    },
    {
     "data": {
      "image/png": "[encoded data removed]",
      "text/plain": [
       "<Figure size 432x288 with 1 Axes>"
      ]
     },
     "metadata": {
      "needs_background": "light"
     },
     "output_type": "display_data"
    },
    {
     "data": {
      "image/png": "[encoded data removed]",
      "text/plain": [
       "<Figure size 432x288 with 1 Axes>"
      ]
     },
     "metadata": {
      "needs_background": "light"
     },
     "output_type": "display_data"
    },
    {
     "data": {
      "image/png": "[encoded data removed]",
      "text/plain": [
       "<Figure size 432x288 with 1 Axes>"
      ]
     },
     "metadata": {
      "needs_background": "light"
     },
     "output_type": "display_data"
    },
    {
     "data": {
      "image/png": "[encoded data removed]",
      "text/plain": [
       "<Figure size 432x288 with 1 Axes>"
      ]
     },
     "metadata": {
      "needs_background": "light"
     },
     "output_type": "display_data"
    },
    {
     "data": {
      "image/png": "[encoded data removed]",
      "text/plain": [
       "<Figure size 432x288 with 1 Axes>"
      ]
     },
     "metadata": {
      "needs_background": "light"
     },
     "output_type": "display_data"
    },
    {
     "data": {
      "image/png": "[encoded data removed]",
      "text/plain": [
       "<Figure size 432x288 with 1 Axes>"
      ]
     },
     "metadata": {
      "needs_background": "light"
     },
     "output_type": "display_data"
    },
    {
     "data": {
      "image/png": "[encoded data removed]",
      "text/plain": [
       "<Figure size 432x288 with 1 Axes>"
      ]
     },
     "metadata": {
      "needs_background": "light"
     },
     "output_type": "display_data"
    },
    {
     "data": {
      "image/png": "[encoded data removed]",
      "text/plain": [
       "<Figure size 432x288 with 1 Axes>"
      ]
     },
     "metadata": {
      "needs_background": "light"
     },
     "output_type": "display_data"
    }
   ],
   "source": [
    "test_cases = testing_data[0: 10]\n",
    "A_groups = num_recog_NN.test(test_cases)\n",
    "for test_case_index in range(0, len(A_groups)):\n",
    "    prediction = np.argmax(A_groups[test_case_index][3])\n",
    "    plt.figure()\n",
    "    plt.imshow(np.array(test_cases[test_case_index]).reshape(28, 28), cmap='gray')\n",
    "    plt.title('Prediction: ' + str(prediction))"
   ]
  }
 ],
 "metadata": {
  "interpreter": {
   "hash": "916dbcbb3f70747c44a77c7bcd40155683ae19c65e1c03b4aa3499c5328201f1"
  },
  "kernelspec": {
   "display_name": "Python 3.9.7 64-bit",
   "language": "python",
   "name": "python3"
  },
  "language_info": {
   "codemirror_mode": {
    "name": "ipython",
    "version": 3
   },
   "file_extension": ".py",
   "mimetype": "text/x-python",
   "name": "python",
   "nbconvert_exporter": "python",
   "pygments_lexer": "ipython3",
   "version": "3.9.7"
  },
  "orig_nbformat": 4
 },
 "nbformat": 4,
 "nbformat_minor": 2
}
